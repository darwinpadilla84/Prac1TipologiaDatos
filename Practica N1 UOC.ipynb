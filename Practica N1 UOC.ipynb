{
 "cells": [
  {
   "cell_type": "code",
   "execution_count": 1,
   "id": "7dfb0e05",
   "metadata": {},
   "outputs": [],
   "source": [
    "# Importar los módulos necesarios para el WS\n",
    "import requests\n",
    "import csv\n",
    "from bs4 import BeautifulSoup"
   ]
  },
  {
   "cell_type": "code",
   "execution_count": 2,
   "id": "55ca18bd",
   "metadata": {},
   "outputs": [],
   "source": [
    "# Página web \n",
    "url = \"https://kaosport.com/collections/promocion\"\n",
    "\n",
    "# Ejecución del modulo de requests\n",
    "response = requests.get(url)\n",
    "\n",
    "# Extraer el archivo HTML en variable\n",
    "html = BeautifulSoup(response.text, 'html.parser')\n",
    "#print(html)"
   ]
  },
  {
   "cell_type": "code",
   "execution_count": 3,
   "id": "ef36fdc4",
   "metadata": {},
   "outputs": [],
   "source": [
    "# Extraer las marcas, el producto y el precio de cada uno de ellos\n",
    "marcas = html.find_all('p', class_=\"product-vendor\")\n",
    "productos = html.find_all('a', class_=\"product-title\")\n",
    "precios = html.find_all('span', class_=\"money\")\n",
    "\n",
    "# Creación de una lista para la marca\n",
    "marc = list()\n",
    "for marca in marcas:\n",
    "    marc.append(marca.text.strip())\n",
    "\n",
    "# Creación de una lista para el producto\n",
    "prod = list()\n",
    "for producto in productos:\n",
    "    prod.append(producto.text.strip())\n",
    "    \n",
    "# Creación de una lista para el precio\n",
    "prec = list()\n",
    "for precio in precios:\n",
    "    prec.append(precio.text.strip()) "
   ]
  },
  {
   "cell_type": "code",
   "execution_count": 4,
   "id": "73a65645",
   "metadata": {
    "scrolled": true
   },
   "outputs": [
    {
     "name": "stdout",
     "output_type": "stream",
     "text": [
      "('LOTTO', 'Zapato Moda Lotto Megalight II Junior (T6695-97)', '$0.00')\n",
      "('LOTTO', 'Zapato Fútbol Lotto Maestro 700 FG Hombre (T6957-58-59)', '$48.90')\n",
      "('LOTTO', 'Zapato Moda Lotto Cityride Evo Mix AMF Junior (T6680)', '$52.90')\n",
      "('ADIDAS', 'Zapato Adidas Trail Terrex AX3 Mujer (ZAD.9519)', '$52.00')\n",
      "('ADIDAS', 'Zapato Adidas Correr Galaxy 4 Hombre (ZAD.36163)', '$124.90')\n",
      "('LOTTO', 'Zapato Indoor Fútbol Lotto Maestro 700 TF Junior (T6990-92)', '$84.90')\n",
      "('LOTTO', 'Camiseta Club Nacional  Lotto para Hombre (119NJ)', '$48.70')\n",
      "('SPALDING', 'Balón de Básketball Spalding Barcelona (SPA-83117)', '$45.90')\n",
      "('ADIDAS', 'Zapato Adidas Correr Tensaurus I kids (ZAD.1113)', '$24.00')\n",
      "('LOTTO', 'Zapato Indoor Fútbol Lotto LZG TF Hombre (T3508)', '$54.90')\n",
      "('LOTTO', 'Zapato Fútbol Lotto Solista 700 FG Hombre (T6962-63-T8861-T8941)', '$52.90')\n",
      "('LOTTO', 'Zapato Fútbol Lotto Maestro 700 FG (T6966)', '$50.90')\n",
      "('LOTTO', 'Zapato Fútbol Lotto Lxg 700 FG (T3523)', '$49.30')\n",
      "('TELOON', 'Teloon Plumas Badminton (3000)', '$48.70')\n",
      "('LOTTO', 'Conjunto Moda Lotto Mason Hombre(T5448)', '$27.99')\n"
     ]
    }
   ],
   "source": [
    "# Unir e imprimir las listas creadas\n",
    "for t in zip(marc,prod, prec):\n",
    "    print(t)\n",
    "\n",
    "# Guardar las marcas, productos y precios de las ofertas en archivo plano\n",
    "with open('./OfertasKao.csv', 'w') as csv_file:\n",
    "    csv_writer = csv.writer(csv_file, dialect='excel')\n",
    "    csv_writer.writerows(zip(marc,prod, prec))"
   ]
  },
  {
   "cell_type": "code",
   "execution_count": null,
   "id": "96103a5f",
   "metadata": {},
   "outputs": [],
   "source": []
  }
 ],
 "metadata": {
  "kernelspec": {
   "display_name": "Python 3",
   "language": "python",
   "name": "python3"
  },
  "language_info": {
   "codemirror_mode": {
    "name": "ipython",
    "version": 3
   },
   "file_extension": ".py",
   "mimetype": "text/x-python",
   "name": "python",
   "nbconvert_exporter": "python",
   "pygments_lexer": "ipython3",
   "version": "3.9.3"
  }
 },
 "nbformat": 4,
 "nbformat_minor": 5
}
